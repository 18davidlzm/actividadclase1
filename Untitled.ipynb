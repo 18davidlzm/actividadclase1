{
 "cells": [
  {
   "cell_type": "code",
   "execution_count": 64,
   "metadata": {},
   "outputs": [],
   "source": [
    "def ejercicio_1():\n",
    "    edad = int(input(\"porfavor ingrese su edad:  \"))\n",
    "    if edad>= 18:\n",
    "        return\"puede tomar cerveza\"\n",
    "    else:\n",
    "        return\"no puede tomar cerveza\""
   ]
  },
  {
   "cell_type": "code",
   "execution_count": 65,
   "metadata": {},
   "outputs": [],
   "source": [
    "def ejercicio_1(edad:int):\n",
    "    #edad = int(input(\"porfavor ingrese su edad:  \"))\n",
    "    if edad>= 18:\n",
    "        return\"puede tomar cerveza\"\n",
    "    else:\n",
    "        return\"no puede tomar cerveza\""
   ]
  },
  {
   "cell_type": "code",
   "execution_count": 62,
   "metadata": {},
   "outputs": [
    {
     "ename": "TypeError",
     "evalue": "ejercicio_1() missing 1 required positional argument: 'edad'",
     "output_type": "error",
     "traceback": [
      "\u001b[1;31m---------------------------------------------------------------------------\u001b[0m",
      "\u001b[1;31mTypeError\u001b[0m                                 Traceback (most recent call last)",
      "\u001b[1;32m<ipython-input-62-277fa6d094dc>\u001b[0m in \u001b[0;36m<module>\u001b[1;34m\u001b[0m\n\u001b[1;32m----> 1\u001b[1;33m \u001b[0mprint\u001b[0m\u001b[1;33m(\u001b[0m\u001b[0mejercicio_1\u001b[0m\u001b[1;33m(\u001b[0m\u001b[1;33m)\u001b[0m\u001b[1;33m)\u001b[0m\u001b[1;33m\u001b[0m\u001b[1;33m\u001b[0m\u001b[0m\n\u001b[0m",
      "\u001b[1;31mTypeError\u001b[0m: ejercicio_1() missing 1 required positional argument: 'edad'"
     ]
    }
   ],
   "source": [
    "print(ejercicio_1())\n"
   ]
  },
  {
   "cell_type": "code",
   "execution_count": 25,
   "metadata": {},
   "outputs": [
    {
     "name": "stdout",
     "output_type": "stream",
     "text": [
      "Ingrese la marca:  AGUILA\n",
      "compro AGUILA\n"
     ]
    }
   ],
   "source": [
    "marca = input(\"Ingrese la marca:  \")\n",
    "if marca.lower() == \"budweiser\":\n",
    "    print(\"compro\", marca)\n",
    "elif marca.lower() == \"aguila\":\n",
    "        print(\"compro\", marca)\n",
    "else:\n",
    "        print(\"no compro nada\")"
   ]
  },
  {
   "cell_type": "code",
   "execution_count": 27,
   "metadata": {},
   "outputs": [
    {
     "name": "stdout",
     "output_type": "stream",
     "text": [
      "girar en la carrera 9\n"
     ]
    }
   ],
   "source": [
    "giro =\"carrera 9\"\n",
    "if giro == \"carrera 9\":\n",
    "    print(\"girar en la\",giro)\n",
    "if giro == \"carrera 10\":\n",
    "    print(\"girar en la\",giro)\n",
    "if giro == \"carrera 11\":\n",
    "    print(\"girar en la\",giro)"
   ]
  },
  {
   "cell_type": "code",
   "execution_count": 47,
   "metadata": {},
   "outputs": [
    {
     "name": "stdout",
     "output_type": "stream",
     "text": [
      " Ingrese el numero A:   5\n",
      "ingrese el numero B:   5\n",
      " Ingrese la Operacion :   +\n",
      "error\n"
     ]
    }
   ],
   "source": [
    "a = float(input(\" Ingrese el numero A:   \"))\n",
    "b = float(input (\"ingrese el numero B:   \"))\n",
    "opc = input(\" Ingrese la Operacion :   \")\n",
    "if opc == '+':\n",
    "    c = a + b\n",
    "if opc == '-':\n",
    "    c = a - b   \n",
    "if opc== ' * ':\n",
    "    c = a * b\n",
    "if opc== ' / ':\n",
    "    if b !=0:\n",
    "        c = a / b\n",
    "    print(c)\n",
    "else:\n",
    "    print(\"error\")\n"
   ]
  },
  {
   "cell_type": "code",
   "execution_count": null,
   "metadata": {},
   "outputs": [],
   "source": [
    "\n"
   ]
  }
 ],
 "metadata": {
  "kernelspec": {
   "display_name": "Python 3",
   "language": "python",
   "name": "python3"
  },
  "language_info": {
   "codemirror_mode": {
    "name": "ipython",
    "version": 3
   },
   "file_extension": ".py",
   "mimetype": "text/x-python",
   "name": "python",
   "nbconvert_exporter": "python",
   "pygments_lexer": "ipython3",
   "version": "3.8.3"
  }
 },
 "nbformat": 4,
 "nbformat_minor": 4
}
